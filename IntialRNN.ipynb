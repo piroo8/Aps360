{
  "nbformat": 4,
  "nbformat_minor": 0,
  "metadata": {
    "colab": {
      "provenance": []
    },
    "kernelspec": {
      "name": "python3",
      "display_name": "Python 3"
    },
    "language_info": {
      "name": "python"
    }
  },
  "cells": [
    {
      "cell_type": "code",
      "source": [
        "import torch\n",
        "import torch.nn as nn\n",
        "import torch.optim as optim\n",
        "from torchtext.vocab import GloVe\n",
        "import pandas as pd\n",
        "import ast\n",
        "from torch.utils.data import TensorDataset, DataLoader"
      ],
      "metadata": {
        "id": "sItohDdW3yru"
      },
      "execution_count": null,
      "outputs": []
    },
    {
      "cell_type": "code",
      "source": [
        "# Step 1: Load and Preprocess the Data\n",
        "train_data = pd.read_csv('train_data.csv')\n",
        "val_data = pd.read_csv('val_data.csv')\n",
        "\n",
        "train_tweets = [[token for token in ast.literal_eval(tweet)] for tweet in train_data['tweet']]\n",
        "val_tweets = [[token for token in ast.literal_eval(tweet)] for tweet in val_data['tweet']]\n",
        "\n",
        "train_labels = torch.tensor(train_data['sentiment'].tolist())\n",
        "val_labels = torch.tensor(val_data['sentiment'].tolist())"
      ],
      "metadata": {
        "id": "GZYDGPDf6Y3A"
      },
      "execution_count": null,
      "outputs": []
    },
    {
      "cell_type": "code",
      "execution_count": null,
      "metadata": {
        "id": "7ZYEIs7c3Im6"
      },
      "outputs": [],
      "source": [
        "# Load the train and validation data\n",
        "train_data = pd.read_csv('train_data.csv')\n",
        "val_data = pd.read_csv('val_data.csv')\n",
        "\n",
        "# Convert the tweet tokens to numerical indices\n",
        "train_tweets = [[TEXT.vocab.stoi[token] for token in tweet] for tweet in train_data['tweet']]\n",
        "val_tweets = [[TEXT.vocab.stoi[token] for token in tweet] for tweet in val_data['tweet']]\n",
        "\n",
        "# Convert the sentiment labels to a tensor\n",
        "train_labels = torch.tensor(train_data['sentiment'].tolist())\n",
        "val_labels = torch.tensor(val_data['sentiment'].tolist())\n",
        "\n",
        "# Convert the company names to numerical indices\n",
        "train_companies = [COMPANY.vocab.stoi[company] for company in train_data['company']]\n",
        "val_companies = [COMPANY.vocab.stoi[company] for company in val_data['company']]\n",
        "\n",
        "# Combine tweet indices and company indices\n",
        "train_inputs = torch.tensor(list(zip(train_tweets, train_companies)))\n",
        "val_inputs = torch.tensor(list(zip(val_tweets, val_companies)))\n",
        "\n",
        "# Create TensorDatasets\n",
        "train_dataset = TensorDataset(train_inputs, train_labels)\n",
        "val_dataset = TensorDataset(val_inputs, val_labels)\n",
        "\n",
        "# Create DataLoaders for batching\n",
        "train_loader = DataLoader(train_dataset, batch_size=32, shuffle=True)\n",
        "val_loader = DataLoader(val_dataset, batch_size=32)"
      ]
    },
    {
      "cell_type": "code",
      "source": [
        "# Step 2: Define the Model\n",
        "class TweetRNN(nn.Module):\n",
        "    def __init__(self, input_size, hidden_size, num_class):\n",
        "        super(TweetRNN, self).__init__()\n",
        "        self.emb = nn.Embedding.from_pretrained(GloVe(name='6B', dim=50))\n",
        "        self.hidden_size = hidden_size\n",
        "        self.rnn = nn.RNN(input_size, hidden_size, batch_first=True)\n",
        "        self.fc = nn.Linear(hidden_size, num_class)\n",
        "\n",
        "    def forward(self, x):\n",
        "        x = self.emb(x)\n",
        "        h0 = torch.zeros(1, x.size(0), self.hidden_size)\n",
        "        out, _ = self.rnn(x, h0)\n",
        "        return self.fc(out[:, -1, :])"
      ],
      "metadata": {
        "id": "xUh8OkgG3mQY"
      },
      "execution_count": null,
      "outputs": []
    },
    {
      "cell_type": "code",
      "source": [
        "# Step 3: Create TensorDatasets and DataLoaders\n",
        "train_inputs = torch.tensor([[token for token in tweet] for tweet in train_tweets])\n",
        "val_inputs = torch.tensor([[token for token in tweet] for tweet in val_tweets])\n",
        "\n",
        "train_dataset = TensorDataset(train_inputs, train_labels)\n",
        "val_dataset = TensorDataset(val_inputs, val_labels)\n",
        "\n",
        "train_loader = DataLoader(train_dataset, batch_size=32, shuffle=True)\n",
        "val_loader = DataLoader(val_dataset, batch_size=32)"
      ],
      "metadata": {
        "id": "BYXvTHgM3rCH"
      },
      "execution_count": null,
      "outputs": []
    },
    {
      "cell_type": "code",
      "source": [
        "def train(model, train_loader, optimizer, criterion):\n",
        "    model.train()\n",
        "    total_loss = 0\n",
        "    total_correct = 0\n",
        "    for inputs, labels in train_loader:\n",
        "        optimizer.zero_grad()\n",
        "        predictions = model(inputs)\n",
        "        loss = criterion(predictions, labels)\n",
        "        loss.backward()\n",
        "        optimizer.step()\n",
        "        total_loss += loss.item()\n",
        "        total_correct += (predictions.argmax(dim=1) == labels).sum().item()\n",
        "    return total_loss / len(train_loader), total_correct / len(train_dataset)\n",
        "\n",
        "def evaluate(model, val_loader, criterion):\n",
        "    model.eval()\n",
        "    total_loss = 0\n",
        "    total_correct = 0\n",
        "    with torch.no_grad():\n",
        "        for inputs, labels in val_loader:\n",
        "            predictions = model(inputs)\n",
        "            loss = criterion(predictions, labels)\n",
        "            total_loss += loss.item()\n",
        "            total_correct += (predictions.argmax(dim=1) == labels).sum().item()\n",
        "    return total_loss / len(val_loader), total_correct / len(val_dataset)\n",
        "\n",
        "num_epochs = 5\n",
        "for epoch in range(num_epochs):\n",
        "    train_loss, train_acc = train(model, train_loader, optimizer, criterion)\n",
        "    val_loss, val_acc = evaluate(model, val_loader, criterion)\n",
        "    print(f\"Epoch: {epoch+1}/{num_epochs}\")\n",
        "    print(f\"Train Loss: {train_loss:.4f} | Train Acc: {train_acc:.4f}\")\n",
        "    print(f\"Val Loss: {val_loss:.4f} | Val Acc: {val_acc:.4f}\")"
      ],
      "metadata": {
        "id": "b89JEGcR6fxO"
      },
      "execution_count": null,
      "outputs": []
    }
  ]
}
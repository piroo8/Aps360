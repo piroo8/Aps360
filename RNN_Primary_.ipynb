{
  "cells": [
    {
      "cell_type": "markdown",
      "metadata": {
        "id": "view-in-github",
        "colab_type": "text"
      },
      "source": [
        "<a href=\"https://colab.research.google.com/github/piroo8/Aps360/blob/nicks-stuff/RNN_Primary_.ipynb\" target=\"_parent\"><img src=\"https://colab.research.google.com/assets/colab-badge.svg\" alt=\"Open In Colab\"/></a>"
      ]
    },
    {
      "cell_type": "code",
      "execution_count": 2,
      "metadata": {
        "colab": {
          "base_uri": "https://localhost:8080/"
        },
        "id": "LUj4tP0mPmcW",
        "outputId": "b8721c8f-dfd7-40d1-a50b-670c9deda788"
      },
      "outputs": [
        {
          "output_type": "stream",
          "name": "stdout",
          "text": [
            "Drive already mounted at /content/drive; to attempt to forcibly remount, call drive.mount(\"/content/drive\", force_remount=True).\n"
          ]
        }
      ],
      "source": [
        "from google.colab import drive\n",
        "drive.mount('/content/drive')"
      ]
    },
    {
      "cell_type": "code",
      "execution_count": 3,
      "metadata": {
        "colab": {
          "base_uri": "https://localhost:8080/"
        },
        "id": "wBMEFljpi0zk",
        "outputId": "6a8fae2f-01a4-45e6-b293-4fdf18a9bf45"
      },
      "outputs": [
        {
          "output_type": "stream",
          "name": "stdout",
          "text": [
            "Requirement already satisfied: emoji in /usr/local/lib/python3.10/dist-packages (2.6.0)\n"
          ]
        }
      ],
      "source": [
        "pip install emoji --upgrade"
      ]
    },
    {
      "cell_type": "code",
      "execution_count": 4,
      "metadata": {
        "id": "yGdfEPGcX01z"
      },
      "outputs": [],
      "source": [
        "import pandas as pd\n",
        "import numpy as np\n",
        "from string import punctuation\n",
        "import emoji\n",
        "import re\n",
        "import matplotlib.pyplot as plt\n",
        "import seaborn as sns\n",
        "import spacy\n"
      ]
    },
    {
      "cell_type": "code",
      "execution_count": 5,
      "metadata": {
        "colab": {
          "base_uri": "https://localhost:8080/",
          "height": 572
        },
        "id": "ib_arXIwF8Ag",
        "outputId": "d8075c0c-0446-4a17-8423-f9bc41abfd5a"
      },
      "outputs": [
        {
          "output_type": "stream",
          "name": "stderr",
          "text": [
            "<ipython-input-5-2ebe866f59cc>:4: FutureWarning: The error_bad_lines argument has been deprecated and will be removed in a future version. Use on_bad_lines in the future.\n",
            "\n",
            "\n",
            "  df = pd.read_csv(train_path, names=headers, error_bad_lines=False)\n"
          ]
        },
        {
          "output_type": "execute_result",
          "data": {
            "text/plain": [
              "[Text(0.5, 0, 'Labels')]"
            ]
          },
          "metadata": {},
          "execution_count": 5
        },
        {
          "output_type": "display_data",
          "data": {
            "text/plain": [
              "<Figure size 800x500 with 1 Axes>"
            ],
            "image/png": "[encoded data removed]"
          },
          "metadata": {}
        }
      ],
      "source": [
        "train_path = \"/content/drive/MyDrive/Colab Notebooks/project/twitter_sentiment/twitter_training.csv\"\n",
        "headers = [\"id\", \"sentiment source\", \"sentiment\", \"sentiment text\"]\n",
        "# use pathlib to load path\n",
        "df = pd.read_csv(train_path, names=headers, error_bad_lines=False)\n",
        "\n",
        "fig = plt.figure(figsize=(8,5))\n",
        "ax = sns.barplot(x=df.sentiment.unique(),y=df.sentiment.value_counts());\n",
        "ax.set(xlabel='Labels')\n",
        "# Note: The label distribution is not even!"
      ]
    },
    {
      "cell_type": "code",
      "execution_count": 6,
      "metadata": {
        "colab": {
          "base_uri": "https://localhost:8080/"
        },
        "id": "rQERILyrRENx",
        "outputId": "b5d0dfdd-57e8-46d0-ed7e-20914e325b25"
      },
      "outputs": [
        {
          "output_type": "stream",
          "name": "stderr",
          "text": [
            "<ipython-input-6-2a7205ccf9bc>:51: FutureWarning: The default value of regex will change from True to False in a future version.\n",
            "  train_df['sentiment_text'] = train_df['sentiment_text'].str.replace('[^\\w\\s]','')\n",
            "<ipython-input-6-2a7205ccf9bc>:53: FutureWarning: The default value of regex will change from True to False in a future version.\n",
            "  val_df['sentiment_text'] = val_df['sentiment_text'].str.replace('[^\\w\\s]','')\n"
          ]
        }
      ],
      "source": [
        "# Loading the data\n",
        "train_path = \"/content/drive/MyDrive/Colab Notebooks/project/twitter_sentiment/twitter_training.csv\"\n",
        "val_path = \"/content/drive/MyDrive/Colab Notebooks/project/twitter_sentiment/twitter_validation.csv\"\n",
        "# Note: ideally data doesnt have column headers but we add them to easy manipulation\n",
        "headers = [\"id\", \"sentiment_source\", \"sentiment\", \"sentiment_text\"]\n",
        "train_df = pd.read_csv(train_path, names=headers)\n",
        "val_df = pd.read_csv(val_path, names=headers)\n",
        "#train_df.shape #(74682,4)\n",
        "#val_df.shape #(1000,4)\n",
        "#train_df[:]\n",
        "#val_df[:]\n",
        "\n",
        "# Cleaning the data\n",
        "\n",
        "# normalizing the data to be all lower case\n",
        "def lowercase_all(df,column):\n",
        "  df_col = df[column]\n",
        "  df_col = df[column].str.lower()\n",
        "  return df_col\n",
        "\n",
        "train_df['sentiment_source'] = lowercase_all(train_df, 'sentiment_source')\n",
        "train_df['sentiment'] = lowercase_all(train_df, 'sentiment')\n",
        "train_df['sentiment_text'] = lowercase_all(train_df, 'sentiment_text')\n",
        "val_df['sentiment_source'] = lowercase_all(val_df, 'sentiment_source')\n",
        "val_df['sentiment'] = lowercase_all(val_df, 'sentiment')\n",
        "val_df['sentiment_text'] = lowercase_all(val_df, 'sentiment_text')\n",
        "\n",
        "# Removing all NaN/null values\n",
        "\n",
        "#print(train_df['Tweet'].isna().sum())\n",
        "# there are 686 empty tweets in the train data set that we will remove\n",
        "#print(val_df['Tweet'].isna().sum())\n",
        "# there are 0 empty tweets in the validation data set\n",
        "\n",
        "# deleting the empty rowing in the training data set\n",
        "train_df.dropna(inplace=True, axis='index')\n",
        "val_df.dropna(inplace=True, axis='index')\n",
        "\n",
        "#train_df.shape #(73996, 4)\n",
        "#val_df.shape #(1000,4)\n",
        "\n",
        "# convering Labels from string to int\n",
        "\n",
        "mapping = {'irrelevant': 0, 'negative': 1, 'neutral': 2, 'positive': 3}\n",
        "train_df.replace({'sentiment': mapping}, inplace=True)\n",
        "val_df.replace({'sentiment': mapping}, inplace=True)\n",
        "#train_df[:]\n",
        "#val_df[:]\n",
        "\n",
        "#removing punctuation\n",
        "train_df['sentiment_text'] = train_df['sentiment_text'].str.replace('[^\\w\\s]','')\n",
        "train_df['sentiment_text'].head()\n",
        "val_df['sentiment_text'] = val_df['sentiment_text'].str.replace('[^\\w\\s]','')\n",
        "val_df['sentiment_text'].head()\n",
        "\n",
        "# removing the @mentions in the text\n",
        "def remove_usernames_links(tweet):\n",
        "  tweet = re.sub('@[^\\s]+','',tweet)\n",
        "  tweet = re.sub('@ [^\\s]+','',tweet)\n",
        "  tweet = re.sub('http[^\\s]+','',tweet)\n",
        "  tweet = re.sub('https[^\\s]+','',tweet)\n",
        "  return tweet\n",
        "train_df['sentiment_text'] = train_df['sentiment_text'].apply(remove_usernames_links)\n",
        "val_df['sentiment_text'] = val_df['sentiment_text'].apply(remove_usernames_links)\n",
        "# there are some urls and links we couldnt get rid of as there were a variety of them and then it became an individual case based processing\n",
        "# which is extremely time consuming and out of the scope\n",
        "\n",
        "# removing emojis\n",
        "def remove_emoji(text):\n",
        "    emoji_pattern = re.compile(\"[\"\n",
        "                           u\"\\U0001F600-\\U0001F64F\"  # emoticons\n",
        "                           u\"\\U0001F300-\\U0001F5FF\"  # symbols & pictographs\n",
        "                           u\"\\U0001F680-\\U0001F6FF\"  # transport & map symbols\n",
        "                           u\"\\U0001F1E0-\\U0001F1FF\"  # flags\n",
        "                           u\"\\U00002702-\\U000027B0\"\n",
        "                           u\"\\U000024C2-\\U0001F251\"\n",
        "                           \"]+\", flags=re.UNICODE)\n",
        "    return emoji_pattern.sub(r'', text)\n",
        "train_df['sentiment_text'] = train_df['sentiment_text'].apply(lambda x: remove_emoji(x))\n",
        "val_df['sentiment_text'] = val_df['sentiment_text'].apply(lambda x: remove_emoji(x))\n",
        "train_df['sentiment_text'] = train_df['sentiment_text'].apply(lambda s: emoji.replace_emoji(s, ''))\n",
        "val_df['sentiment_text'] = val_df['sentiment_text'].apply(lambda s: emoji.replace_emoji(s, ''))\n",
        "\n",
        "#train_df[:5]\n",
        "#val_df[:5]\n",
        "\n",
        "# Lemmatization\n",
        "nlp = spacy.load('en_core_web_sm', disable=['parser', 'ner'])\n",
        "\n",
        "def space(comment):\n",
        "    doc = nlp(comment)\n",
        "    return \" \".join([token.lemma_ for token in doc])\n",
        "train_df['sentiment_text'] = train_df['sentiment_text'].apply(space)\n",
        "train_df.head(20)\n",
        "val_df['sentiment_text'] = val_df['sentiment_text'].apply(space)\n",
        "val_df.head(20)\n",
        "\n",
        "train_df.to_csv('/content/drive/MyDrive/Colab Notebooks/project/twitter_sentiment/train_data.csv')\n",
        "val_df.to_csv('/content/drive/MyDrive/Colab Notebooks/project/twitter_sentiment/val_data.csv')\n",
        "# train_df[:5]"
      ]
    },
    {
      "cell_type": "code",
      "source": [
        "train_df[:5]"
      ],
      "metadata": {
        "colab": {
          "base_uri": "https://localhost:8080/",
          "height": 206
        },
        "id": "IPolcE71TB1o",
        "outputId": "ce1be7ce-729b-428c-edfb-c77c746bd62d"
      },
      "execution_count": 7,
      "outputs": [
        {
          "output_type": "execute_result",
          "data": {
            "text/plain": [
              "     id sentiment_source  sentiment  \\\n",
              "0  2401      borderlands          3   \n",
              "1  2401      borderlands          3   \n",
              "2  2401      borderlands          3   \n",
              "3  2401      borderlands          3   \n",
              "4  2401      borderlands          3   \n",
              "\n",
              "                                      sentiment_text  \n",
              "0    I m get on borderland and I will murder you all  \n",
              "1    I be come to the border and I will kill you all  \n",
              "2      I m get on borderland and I will kill you all  \n",
              "3   I m come on borderland and I will murder you all  \n",
              "4  I m get on borderland 2 and I will murder you ...  "
            ],
            "text/html": [
              "\n",
              "\n",
              "  <div id=\"df-7bcb14ed-1636-4059-bc24-001fa75b1e77\">\n",
              "    <div class=\"colab-df-container\">\n",
              "      <div>\n",
              "<style scoped>\n",
              "    .dataframe tbody tr th:only-of-type {\n",
              "        vertical-align: middle;\n",
              "    }\n",
              "\n",
              "    .dataframe tbody tr th {\n",
              "        vertical-align: top;\n",
              "    }\n",
              "\n",
              "    .dataframe thead th {\n",
              "        text-align: right;\n",
              "    }\n",
              "</style>\n",
              "<table border=\"1\" class=\"dataframe\">\n",
              "  <thead>\n",
              "    <tr style=\"text-align: right;\">\n",
              "      <th></th>\n",
              "      <th>id</th>\n",
              "      <th>sentiment_source</th>\n",
              "      <th>sentiment</th>\n",
              "      <th>sentiment_text</th>\n",
              "    </tr>\n",
              "  </thead>\n",
              "  <tbody>\n",
              "    <tr>\n",
              "      <th>0</th>\n",
              "      <td>2401</td>\n",
              "      <td>borderlands</td>\n",
              "      <td>3</td>\n",
              "      <td>I m get on borderland and I will murder you all</td>\n",
              "    </tr>\n",
              "    <tr>\n",
              "      <th>1</th>\n",
              "      <td>2401</td>\n",
              "      <td>borderlands</td>\n",
              "      <td>3</td>\n",
              "      <td>I be come to the border and I will kill you all</td>\n",
              "    </tr>\n",
              "    <tr>\n",
              "      <th>2</th>\n",
              "      <td>2401</td>\n",
              "      <td>borderlands</td>\n",
              "      <td>3</td>\n",
              "      <td>I m get on borderland and I will kill you all</td>\n",
              "    </tr>\n",
              "    <tr>\n",
              "      <th>3</th>\n",
              "      <td>2401</td>\n",
              "      <td>borderlands</td>\n",
              "      <td>3</td>\n",
              "      <td>I m come on borderland and I will murder you all</td>\n",
              "    </tr>\n",
              "    <tr>\n",
              "      <th>4</th>\n",
              "      <td>2401</td>\n",
              "      <td>borderlands</td>\n",
              "      <td>3</td>\n",
              "      <td>I m get on borderland 2 and I will murder you ...</td>\n",
              "    </tr>\n",
              "  </tbody>\n",
              "</table>\n",
              "</div>\n",
              "      <button class=\"colab-df-convert\" onclick=\"convertToInteractive('df-7bcb14ed-1636-4059-bc24-001fa75b1e77')\"\n",
              "              title=\"Convert this dataframe to an interactive table.\"\n",
              "              style=\"display:none;\">\n",
              "\n",
              "  <svg xmlns=\"http://www.w3.org/2000/svg\" height=\"24px\"viewBox=\"0 0 24 24\"\n",
              "       width=\"24px\">\n",
              "    <path d=\"M0 0h24v24H0V0z\" fill=\"none\"/>\n",
              "    <path d=\"M18.56 5.44l.94 2.06.94-2.06 2.06-.94-2.06-.94-.94-2.06-.94 2.06-2.06.94zm-11 1L8.5 8.5l.94-2.06 2.06-.94-2.06-.94L8.5 2.5l-.94 2.06-2.06.94zm10 10l.94 2.06.94-2.06 2.06-.94-2.06-.94-.94-2.06-.94 2.06-2.06.94z\"/><path d=\"M17.41 7.96l-1.37-1.37c-.4-.4-.92-.59-1.43-.59-.52 0-1.04.2-1.43.59L10.3 9.45l-7.72 7.72c-.78.78-.78 2.05 0 2.83L4 21.41c.39.39.9.59 1.41.59.51 0 1.02-.2 1.41-.59l7.78-7.78 2.81-2.81c.8-.78.8-2.07 0-2.86zM5.41 20L4 18.59l7.72-7.72 1.47 1.35L5.41 20z\"/>\n",
              "  </svg>\n",
              "      </button>\n",
              "\n",
              "\n",
              "\n",
              "    <div id=\"df-a841cfc6-bc2b-4522-a231-ff9a1753986c\">\n",
              "      <button class=\"colab-df-quickchart\" onclick=\"quickchart('df-a841cfc6-bc2b-4522-a231-ff9a1753986c')\"\n",
              "              title=\"Suggest charts.\"\n",
              "              style=\"display:none;\">\n",
              "\n",
              "<svg xmlns=\"http://www.w3.org/2000/svg\" height=\"24px\"viewBox=\"0 0 24 24\"\n",
              "     width=\"24px\">\n",
              "    <g>\n",
              "        <path d=\"M19 3H5c-1.1 0-2 .9-2 2v14c0 1.1.9 2 2 2h14c1.1 0 2-.9 2-2V5c0-1.1-.9-2-2-2zM9 17H7v-7h2v7zm4 0h-2V7h2v10zm4 0h-2v-4h2v4z\"/>\n",
              "    </g>\n",
              "</svg>\n",
              "      </button>\n",
              "    </div>\n",
              "\n",
              "<style>\n",
              "  .colab-df-quickchart {\n",
              "    background-color: #E8F0FE;\n",
              "    border: none;\n",
              "    border-radius: 50%;\n",
              "    cursor: pointer;\n",
              "    display: none;\n",
              "    fill: #1967D2;\n",
              "    height: 32px;\n",
              "    padding: 0 0 0 0;\n",
              "    width: 32px;\n",
              "  }\n",
              "\n",
              "  .colab-df-quickchart:hover {\n",
              "    background-color: #E2EBFA;\n",
              "    box-shadow: 0px 1px 2px rgba(60, 64, 67, 0.3), 0px 1px 3px 1px rgba(60, 64, 67, 0.15);\n",
              "    fill: #174EA6;\n",
              "  }\n",
              "\n",
              "  [theme=dark] .colab-df-quickchart {\n",
              "    background-color: #3B4455;\n",
              "    fill: #D2E3FC;\n",
              "  }\n",
              "\n",
              "  [theme=dark] .colab-df-quickchart:hover {\n",
              "    background-color: #434B5C;\n",
              "    box-shadow: 0px 1px 3px 1px rgba(0, 0, 0, 0.15);\n",
              "    filter: drop-shadow(0px 1px 2px rgba(0, 0, 0, 0.3));\n",
              "    fill: #FFFFFF;\n",
              "  }\n",
              "</style>\n",
              "\n",
              "    <script>\n",
              "      async function quickchart(key) {\n",
              "        const containerElement = document.querySelector('#' + key);\n",
              "        const charts = await google.colab.kernel.invokeFunction(\n",
              "            'suggestCharts', [key], {});\n",
              "      }\n",
              "    </script>\n",
              "\n",
              "      <script>\n",
              "\n",
              "function displayQuickchartButton(domScope) {\n",
              "  let quickchartButtonEl =\n",
              "    domScope.querySelector('#df-a841cfc6-bc2b-4522-a231-ff9a1753986c button.colab-df-quickchart');\n",
              "  quickchartButtonEl.style.display =\n",
              "    google.colab.kernel.accessAllowed ? 'block' : 'none';\n",
              "}\n",
              "\n",
              "        displayQuickchartButton(document);\n",
              "      </script>\n",
              "      <style>\n",
              "    .colab-df-container {\n",
              "      display:flex;\n",
              "      flex-wrap:wrap;\n",
              "      gap: 12px;\n",
              "    }\n",
              "\n",
              "    .colab-df-convert {\n",
              "      background-color: #E8F0FE;\n",
              "      border: none;\n",
              "      border-radius: 50%;\n",
              "      cursor: pointer;\n",
              "      display: none;\n",
              "      fill: #1967D2;\n",
              "      height: 32px;\n",
              "      padding: 0 0 0 0;\n",
              "      width: 32px;\n",
              "    }\n",
              "\n",
              "    .colab-df-convert:hover {\n",
              "      background-color: #E2EBFA;\n",
              "      box-shadow: 0px 1px 2px rgba(60, 64, 67, 0.3), 0px 1px 3px 1px rgba(60, 64, 67, 0.15);\n",
              "      fill: #174EA6;\n",
              "    }\n",
              "\n",
              "    [theme=dark] .colab-df-convert {\n",
              "      background-color: #3B4455;\n",
              "      fill: #D2E3FC;\n",
              "    }\n",
              "\n",
              "    [theme=dark] .colab-df-convert:hover {\n",
              "      background-color: #434B5C;\n",
              "      box-shadow: 0px 1px 3px 1px rgba(0, 0, 0, 0.15);\n",
              "      filter: drop-shadow(0px 1px 2px rgba(0, 0, 0, 0.3));\n",
              "      fill: #FFFFFF;\n",
              "    }\n",
              "  </style>\n",
              "\n",
              "      <script>\n",
              "        const buttonEl =\n",
              "          document.querySelector('#df-7bcb14ed-1636-4059-bc24-001fa75b1e77 button.colab-df-convert');\n",
              "        buttonEl.style.display =\n",
              "          google.colab.kernel.accessAllowed ? 'block' : 'none';\n",
              "\n",
              "        async function convertToInteractive(key) {\n",
              "          const element = document.querySelector('#df-7bcb14ed-1636-4059-bc24-001fa75b1e77');\n",
              "          const dataTable =\n",
              "            await google.colab.kernel.invokeFunction('convertToInteractive',\n",
              "                                                     [key], {});\n",
              "          if (!dataTable) return;\n",
              "\n",
              "          const docLinkHtml = 'Like what you see? Visit the ' +\n",
              "            '<a target=\"_blank\" href=https://colab.research.google.com/notebooks/data_table.ipynb>data table notebook</a>'\n",
              "            + ' to learn more about interactive tables.';\n",
              "          element.innerHTML = '';\n",
              "          dataTable['output_type'] = 'display_data';\n",
              "          await google.colab.output.renderOutput(dataTable, element);\n",
              "          const docLink = document.createElement('div');\n",
              "          docLink.innerHTML = docLinkHtml;\n",
              "          element.appendChild(docLink);\n",
              "        }\n",
              "      </script>\n",
              "    </div>\n",
              "  </div>\n"
            ]
          },
          "metadata": {},
          "execution_count": 7
        }
      ]
    },
    {
      "cell_type": "code",
      "execution_count": 8,
      "metadata": {
        "id": "WgPmv2dwF19x"
      },
      "outputs": [],
      "source": [
        "from keras.preprocessing.text import Tokenizer\n",
        "tokenizer = Tokenizer(oov_token = '<nothing>')\n",
        "tokenizer.fit_on_texts(train_df['sentiment_text'])\n",
        "tokenizer.fit_on_texts(val_df['sentiment_text'])\n",
        "#tokenizer.word_index\n",
        "#tokenizer.word_counts\n",
        "#tokenizer.document_count # 73996 as we expected and calculated during cleaning\n",
        "from keras.utils import pad_sequences\n",
        "# add a row of index sequences\n",
        "train_sequences = tokenizer.texts_to_sequences(train_df['sentiment_text'])\n",
        "val_sequences = tokenizer.texts_to_sequences(val_df['sentiment_text'])\n",
        "# adding padding to make all sequences the same length\n",
        "train_sequences = pad_sequences(train_sequences,padding='post')\n",
        "val_sequences = pad_sequences(val_sequences,padding='post')\n",
        "\n",
        "# all data preprocessing is complete and now we are ready with our input data!"
      ]
    },
    {
      "cell_type": "code",
      "execution_count": 81,
      "metadata": {
        "id": "VfJBDlpOSxiS"
      },
      "outputs": [],
      "source": [
        "# converting the labes to One-Hot-Encoding\n",
        "from torch.utils.data import TensorDataset\n",
        "from torch.utils.data import DataLoader\n",
        "train_df['sentiment'][:5]\n",
        "from keras.utils import to_categorical\n",
        "num_classes = 3\n",
        "train_df['sentiment'] = to_categorical(train_df['sentiment'], num_classes)\n",
        "val_df['sentiment'] = to_categorical(val_df['sentiment'], num_classes)\n",
        "\n",
        "x_train = train_sequences\n",
        "x_val = val_sequences\n",
        "y_train = train_df['sentiment']\n",
        "y_val = val_df['sentiment']\n",
        "\n",
        "\n",
        "save_xtrain = x_train\n",
        "x_train = torch.tensor(x_train)\n",
        "x_val = torch.tensor(x_val)\n",
        "y_tensor_train = []\n",
        "y_tensor_val = []\n",
        "\n",
        "\n",
        "for entry in train_df['sentiment']:\n",
        "  y_tensor_train.append(entry)\n",
        "for entry in val_df['sentiment']:\n",
        "  y_tensor_val.append(entry)\n",
        "y_tensor_train = torch.tensor(y_tensor_train)\n",
        "y_tensor_val = torch.tensor(y_tensor_val)\n",
        "\n",
        "train_dataset = TensorDataset(x_train, y_tensor_train)\n",
        "val_dataset = TensorDataset(x_val, y_tensor_val)\n",
        "\n",
        "train_loader = torch.utils.data.DataLoader(train_dataset, batch_size = 32, shuffle=True)\n",
        "val_loader = torch.utils.data.DataLoader(val_dataset, batch_size = 32, shuffle=True)\n"
      ]
    },
    {
      "cell_type": "code",
      "source": [
        "y_tensor_train.size()"
      ],
      "metadata": {
        "colab": {
          "base_uri": "https://localhost:8080/"
        },
        "id": "thZ8I58tAWxg",
        "outputId": "91f0d08b-d9f2-4361-86de-c1ae57f17609"
      },
      "execution_count": 83,
      "outputs": [
        {
          "output_type": "execute_result",
          "data": {
            "text/plain": [
              "torch.Size([73996])"
            ]
          },
          "metadata": {},
          "execution_count": 83
        }
      ]
    },
    {
      "cell_type": "code",
      "source": [
        "from collections import Counter\n",
        "# Count all the words using Counter Method\n",
        "all_text = \" \".join(train_df[\"sentiment_text\"])\n",
        "all_words = all_text.split()\n",
        "all_filtered = []\n",
        "count_words = Counter(all_words)\n",
        "total_words=len(all_words)\n",
        "sorted_words=count_words.most_common(total_words)\n",
        "len(sorted_words)"
      ],
      "metadata": {
        "colab": {
          "base_uri": "https://localhost:8080/"
        },
        "id": "4Re0rWFzTRFE",
        "outputId": "63fbb57e-606b-4bea-a7c8-617c2227997f"
      },
      "execution_count": 12,
      "outputs": [
        {
          "output_type": "execute_result",
          "data": {
            "text/plain": [
              "35895"
            ]
          },
          "metadata": {},
          "execution_count": 12
        }
      ]
    },
    {
      "cell_type": "code",
      "execution_count": 73,
      "metadata": {
        "id": "C-g02B8yHPol"
      },
      "outputs": [],
      "source": [
        "import torch\n",
        "import torch.nn as nn\n",
        "import torch.optim as optim\n",
        "\n",
        "class SentimentRNN(nn.Module):\n",
        "    def __init__(self, input_size, hidden_size, num_layers, output_size):\n",
        "        super(SentimentRNN, self).__init__()\n",
        "        self.hidden_size = hidden_size\n",
        "        self.num_layers = num_layers\n",
        "\n",
        "        # Define the LSTM layer\n",
        "        self.lstm = nn.LSTM(input_size, hidden_size, num_layers, batch_first=True)\n",
        "\n",
        "        # Define the fully connected layer for sentiment prediction\n",
        "        self.fc = nn.Linear(hidden_size, output_size)\n",
        "\n",
        "    def forward(self, x):\n",
        "      # Initialize hidden and cell states\n",
        "      h0 = torch.zeros(self.num_layers, x.size(0), self.hidden_size).to(x.device).to(self.lstm.weight_ih_l0.dtype)\n",
        "      c0 = torch.zeros(self.num_layers, x.size(0), self.hidden_size).to(x.device).to(self.lstm.weight_ih_l0.dtype)\n",
        "\n",
        "      # Convert input tensor to the same data type as the LSTM weights\n",
        "      x = x.to(self.lstm.weight_ih_l0.dtype)\n",
        "      out, _ = self.lstm(x, (h0, c0))\n",
        "\n",
        "      # Extract the output of the last time step\n",
        "      out = out[:, -1, :]\n",
        "\n",
        "      # Pass the output through the fully connected layer for sentiment prediction\n",
        "      out = self.fc(out)\n",
        "\n",
        "      return out\n",
        "\n",
        "def train(model, train_dataloader, learning_rate):\n",
        "    device = torch.device(\"cuda\" if torch.cuda.is_available() else \"cpu\")\n",
        "    model.to(device)\n",
        "\n",
        "    optimizer = torch.optim.SGD(model.parameters(), lr=learning_rate)\n",
        "    loss_fn = nn.CrossEntropyLoss()\n",
        "\n",
        "    epochs = 10\n",
        "    for epoch in range(epochs):\n",
        "        running_loss = 0.0\n",
        "        correct_predictions = 0\n",
        "        total_predictions = 0\n",
        "\n",
        "        for batch in train_dataloader:\n",
        "            # Move the batch to the device\n",
        "            inputs = batch[0].to(device)\n",
        "            labels = batch[1].to(device)\n",
        "\n",
        "            # Reshape the inputs to match the expected shape\n",
        "            inputs = inputs.unsqueeze(1)  # Add an extra dimension for sequence length\n",
        "\n",
        "            # Clear the gradients\n",
        "            optimizer.zero_grad()\n",
        "\n",
        "            # Forward pass\n",
        "            outputs = model(inputs)\n",
        "\n",
        "            # Reshape the outputs and labels\n",
        "            outputs = outputs.view(-1, outputs.size(-1))\n",
        "            labels = labels.view(-1)\n",
        "\n",
        "            # Convert labels to torch.long\n",
        "            labels = labels.to(torch.long)\n",
        "\n",
        "            # Calculate the loss\n",
        "            loss = loss_fn(outputs, labels)\n",
        "\n",
        "            # Backward pass and optimization\n",
        "            loss.backward()\n",
        "            optimizer.step()\n",
        "\n",
        "            # Update the running loss\n",
        "            running_loss += loss.item()\n",
        "\n",
        "            # Calculate the number of correct predictions\n",
        "            _, predicted = torch.max(outputs, 1)\n",
        "            correct_predictions += (predicted == labels).sum().item()\n",
        "            total_predictions += labels.size(0)\n",
        "\n",
        "        # Calculate the training accuracy\n",
        "        training_accuracy = correct_predictions / total_predictions\n",
        "\n",
        "        # Print the average loss and accuracy for the epoch\n",
        "        epoch_loss = running_loss / len(train_dataloader)\n",
        "        print(f\"Epoch [{epoch+1}/{epochs}], Loss: {epoch_loss}, Accuracy: {training_accuracy * 100}%\")"
      ]
    },
    {
      "cell_type": "code",
      "source": [],
      "metadata": {
        "id": "bMYSxW2t1YJ2"
      },
      "execution_count": 75,
      "outputs": []
    },
    {
      "cell_type": "code",
      "execution_count": 79,
      "metadata": {
        "id": "V3EhXzRiSuyR",
        "colab": {
          "base_uri": "https://localhost:8080/"
        },
        "outputId": "80e3e1f8-8bdb-4bae-e61e-ed9a6507810f"
      },
      "outputs": [
        {
          "output_type": "stream",
          "name": "stdout",
          "text": [
            "Epoch [1/10], Loss: 1.0551956411156365, Accuracy: 45.66057624736472%\n",
            "Epoch [2/10], Loss: 0.9238282919342364, Accuracy: 69.9618898318828%\n",
            "Epoch [3/10], Loss: 0.8261184740056221, Accuracy: 78.27720417319856%\n",
            "Epoch [4/10], Loss: 0.7535029277881914, Accuracy: 80.85166765771122%\n",
            "Epoch [5/10], Loss: 0.700336755327059, Accuracy: 81.8530731390886%\n",
            "Epoch [6/10], Loss: 0.6608798029332051, Accuracy: 82.20038921022757%\n",
            "Epoch [7/10], Loss: 0.6315634409766975, Accuracy: 82.36526298718849%\n",
            "Epoch [8/10], Loss: 0.6102219905963564, Accuracy: 82.45580842207687%\n",
            "Epoch [9/10], Loss: 0.5934559882357169, Accuracy: 82.49229688091249%\n",
            "Epoch [10/10], Loss: 0.5807843588540629, Accuracy: 82.50716254932699%\n"
          ]
        }
      ],
      "source": [
        "first_model = SentimentRNN(166,64,1, 3)\n",
        "train(first_model, train_loader, 0.0001)"
      ]
    },
    {
      "cell_type": "code",
      "source": [
        "next(iter(train_loader))"
      ],
      "metadata": {
        "colab": {
          "base_uri": "https://localhost:8080/"
        },
        "id": "4L2FRvrK8Imd",
        "outputId": "7a06b698-a2e8-43e9-a14b-e79303889345"
      },
      "execution_count": 91,
      "outputs": [
        {
          "output_type": "execute_result",
          "data": {
            "text/plain": [
              "[tensor([[  29, 2076,   18,  ...,    0,    0,    0],\n",
              "         [ 587, 6059, 2972,  ...,    0,    0,    0],\n",
              "         [ 366,    4,   22,  ...,    0,    0,    0],\n",
              "         ...,\n",
              "         [ 482,    0,    0,  ...,    0,    0,    0],\n",
              "         [  12,    4,   52,  ...,    0,    0,    0],\n",
              "         [   2,  441,   45,  ...,    0,    0,    0]], dtype=torch.int32),\n",
              " tensor([0., 0., 0., 0., 0., 0., 0., 0., 0., 0., 0., 0., 1., 0., 1., 0., 0., 1.,\n",
              "         0., 0., 0., 0., 0., 0., 0., 1., 0., 0., 0., 0., 0., 0.])]"
            ]
          },
          "metadata": {},
          "execution_count": 91
        }
      ]
    }
  ],
  "metadata": {
    "colab": {
      "provenance": [],
      "include_colab_link": true
    },
    "kernelspec": {
      "display_name": "Python 3",
      "name": "python3"
    },
    "language_info": {
      "name": "python"
    }
  },
  "nbformat": 4,
  "nbformat_minor": 0
}